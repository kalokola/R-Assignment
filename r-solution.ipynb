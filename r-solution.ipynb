{
 "cells": [
  {
   "cell_type": "markdown",
   "id": "99d24240",
   "metadata": {},
   "source": [
    "<h5>Read data</h5>"
   ]
  },
  {
   "cell_type": "code",
   "execution_count": 139,
   "id": "196b5c67",
   "metadata": {},
   "outputs": [
    {
     "data": {
      "text/html": [
       "<table class=\"dataframe\">\n",
       "<caption>A tibble: 5 × 11</caption>\n",
       "<thead>\n",
       "\t<tr><th scope=col>ID</th><th scope=col>LOW</th><th scope=col>AGE</th><th scope=col>LWT</th><th scope=col>RACE</th><th scope=col>SMOKE</th><th scope=col>PTL</th><th scope=col>HT</th><th scope=col>UI</th><th scope=col>FTV</th><th scope=col>BWT</th></tr>\n",
       "\t<tr><th scope=col>&lt;dbl&gt;</th><th scope=col>&lt;dbl&gt;</th><th scope=col>&lt;dbl&gt;</th><th scope=col>&lt;dbl&gt;</th><th scope=col>&lt;dbl&gt;</th><th scope=col>&lt;dbl&gt;</th><th scope=col>&lt;dbl&gt;</th><th scope=col>&lt;dbl&gt;</th><th scope=col>&lt;dbl&gt;</th><th scope=col>&lt;dbl&gt;</th><th scope=col>&lt;dbl&gt;</th></tr>\n",
       "</thead>\n",
       "<tbody>\n",
       "\t<tr><td>1</td><td>0</td><td>19</td><td>182</td><td>2</td><td>0</td><td>0</td><td>0</td><td>1</td><td>0</td><td>2523</td></tr>\n",
       "\t<tr><td>2</td><td>0</td><td>33</td><td>155</td><td>3</td><td>0</td><td>0</td><td>0</td><td>0</td><td>3</td><td>2551</td></tr>\n",
       "\t<tr><td>3</td><td>0</td><td>20</td><td>105</td><td>1</td><td>1</td><td>0</td><td>0</td><td>0</td><td>1</td><td>2557</td></tr>\n",
       "\t<tr><td>4</td><td>0</td><td>21</td><td>108</td><td>1</td><td>1</td><td>0</td><td>0</td><td>1</td><td>2</td><td>2594</td></tr>\n",
       "\t<tr><td>5</td><td>0</td><td>18</td><td>107</td><td>1</td><td>1</td><td>0</td><td>0</td><td>1</td><td>0</td><td>2600</td></tr>\n",
       "</tbody>\n",
       "</table>\n"
      ],
      "text/latex": [
       "A tibble: 5 × 11\n",
       "\\begin{tabular}{lllllllllll}\n",
       " ID & LOW & AGE & LWT & RACE & SMOKE & PTL & HT & UI & FTV & BWT\\\\\n",
       " <dbl> & <dbl> & <dbl> & <dbl> & <dbl> & <dbl> & <dbl> & <dbl> & <dbl> & <dbl> & <dbl>\\\\\n",
       "\\hline\n",
       "\t 1 & 0 & 19 & 182 & 2 & 0 & 0 & 0 & 1 & 0 & 2523\\\\\n",
       "\t 2 & 0 & 33 & 155 & 3 & 0 & 0 & 0 & 0 & 3 & 2551\\\\\n",
       "\t 3 & 0 & 20 & 105 & 1 & 1 & 0 & 0 & 0 & 1 & 2557\\\\\n",
       "\t 4 & 0 & 21 & 108 & 1 & 1 & 0 & 0 & 1 & 2 & 2594\\\\\n",
       "\t 5 & 0 & 18 & 107 & 1 & 1 & 0 & 0 & 1 & 0 & 2600\\\\\n",
       "\\end{tabular}\n"
      ],
      "text/markdown": [
       "\n",
       "A tibble: 5 × 11\n",
       "\n",
       "| ID &lt;dbl&gt; | LOW &lt;dbl&gt; | AGE &lt;dbl&gt; | LWT &lt;dbl&gt; | RACE &lt;dbl&gt; | SMOKE &lt;dbl&gt; | PTL &lt;dbl&gt; | HT &lt;dbl&gt; | UI &lt;dbl&gt; | FTV &lt;dbl&gt; | BWT &lt;dbl&gt; |\n",
       "|---|---|---|---|---|---|---|---|---|---|---|\n",
       "| 1 | 0 | 19 | 182 | 2 | 0 | 0 | 0 | 1 | 0 | 2523 |\n",
       "| 2 | 0 | 33 | 155 | 3 | 0 | 0 | 0 | 0 | 3 | 2551 |\n",
       "| 3 | 0 | 20 | 105 | 1 | 1 | 0 | 0 | 0 | 1 | 2557 |\n",
       "| 4 | 0 | 21 | 108 | 1 | 1 | 0 | 0 | 1 | 2 | 2594 |\n",
       "| 5 | 0 | 18 | 107 | 1 | 1 | 0 | 0 | 1 | 0 | 2600 |\n",
       "\n"
      ],
      "text/plain": [
       "  ID LOW AGE LWT RACE SMOKE PTL HT UI FTV BWT \n",
       "1 1  0   19  182 2    0     0   0  1  0   2523\n",
       "2 2  0   33  155 3    0     0   0  0  3   2551\n",
       "3 3  0   20  105 1    1     0   0  0  1   2557\n",
       "4 4  0   21  108 1    1     0   0  1  2   2594\n",
       "5 5  0   18  107 1    1     0   0  1  0   2600"
      ]
     },
     "metadata": {},
     "output_type": "display_data"
    }
   ],
   "source": [
    "library(readxl)\n",
    "data <- read_excel(\"data.xls\")\n",
    "\n",
    "# first five rows\n",
    "head(data, 5)"
   ]
  },
  {
   "cell_type": "markdown",
   "id": "bf7d680b",
   "metadata": {},
   "source": [
    "# Task 1"
   ]
  },
  {
   "cell_type": "code",
   "execution_count": 140,
   "id": "b3455a55",
   "metadata": {},
   "outputs": [
    {
     "data": {
      "text/html": [
       "<table class=\"dataframe\">\n",
       "<caption>A data.frame: 5 × 2</caption>\n",
       "<thead>\n",
       "\t<tr><th></th><th scope=col>AGE</th><th scope=col>RaceFreq</th></tr>\n",
       "\t<tr><th></th><th scope=col>&lt;fct&gt;</th><th scope=col>&lt;int&gt;</th></tr>\n",
       "</thead>\n",
       "<tbody>\n",
       "\t<tr><th scope=row>1</th><td>14</td><td> 9</td></tr>\n",
       "\t<tr><th scope=row>2</th><td>15</td><td> 9</td></tr>\n",
       "\t<tr><th scope=row>3</th><td>16</td><td>22</td></tr>\n",
       "\t<tr><th scope=row>4</th><td>17</td><td>37</td></tr>\n",
       "\t<tr><th scope=row>5</th><td>18</td><td>33</td></tr>\n",
       "</tbody>\n",
       "</table>\n"
      ],
      "text/latex": [
       "A data.frame: 5 × 2\n",
       "\\begin{tabular}{r|ll}\n",
       "  & AGE & RaceFreq\\\\\n",
       "  & <fct> & <int>\\\\\n",
       "\\hline\n",
       "\t1 & 14 &  9\\\\\n",
       "\t2 & 15 &  9\\\\\n",
       "\t3 & 16 & 22\\\\\n",
       "\t4 & 17 & 37\\\\\n",
       "\t5 & 18 & 33\\\\\n",
       "\\end{tabular}\n"
      ],
      "text/markdown": [
       "\n",
       "A data.frame: 5 × 2\n",
       "\n",
       "| <!--/--> | AGE &lt;fct&gt; | RaceFreq &lt;int&gt; |\n",
       "|---|---|---|\n",
       "| 1 | 14 |  9 |\n",
       "| 2 | 15 |  9 |\n",
       "| 3 | 16 | 22 |\n",
       "| 4 | 17 | 37 |\n",
       "| 5 | 18 | 33 |\n",
       "\n"
      ],
      "text/plain": [
       "  AGE RaceFreq\n",
       "1 14   9      \n",
       "2 15   9      \n",
       "3 16  22      \n",
       "4 17  37      \n",
       "5 18  33      "
      ]
     },
     "metadata": {},
     "output_type": "display_data"
    }
   ],
   "source": [
    "# Need to establish a relationship between Age of Mother in years and Race\n",
    "age_freq <- as.data.frame(table(data$AGE))\n",
    "colnames(age_freq) <- c(\"AGE\", \"RaceFreq\")\n",
    "\n",
    "# view table first five rows\n",
    "head(age_freq, 5)"
   ]
  },
  {
   "cell_type": "markdown",
   "id": "2dcc526c",
   "metadata": {},
   "source": [
    "<h5>Graphing</h5>"
   ]
  },
  {
   "cell_type": "code",
   "execution_count": 141,
   "id": "7452c975",
   "metadata": {},
   "outputs": [
    {
     "data": {
      "image/png": "[encoded data removed]",
      "text/plain": [
       "plot without title"
      ]
     },
     "metadata": {
      "image/png": {
       "height": 420,
       "width": 420
      }
     },
     "output_type": "display_data"
    }
   ],
   "source": [
    "# Line graph of frequency (y) against age(x)\n",
    "library(ggplot2)\n",
    "\n",
    "# Create a column graph of AGE gainst Frequency\n",
    "ggplot(age_freq, aes(x = AGE, y = RaceFreq, color = AGE)) +\n",
    "  geom_col() + ggtitle(\"Age of Mother in years against Total Race\") +\n",
    "  labs(x = \"Age of Mother(years)\", y = \"Race Frequency\")"
   ]
  },
  {
   "cell_type": "markdown",
   "id": "6df88d83",
   "metadata": {},
   "source": [
    "<h6>Comments on the results</h6>\n",
    "<small><strong>\"</strong>Observe and the graphs' nature and say something about what you see.<strong>\"</strong></small>\n",
    "\n",
    "NB: You can choose to draw age against a specific race to hav a greater scope to analyse"
   ]
  },
  {
   "cell_type": "markdown",
   "id": "4cb04d9f",
   "metadata": {},
   "source": [
    "# Task 2 a)"
   ]
  },
  {
   "cell_type": "code",
   "execution_count": 142,
   "id": "fcfbb955",
   "metadata": {},
   "outputs": [
    {
     "data": {
      "text/html": [
       "<table class=\"dataframe\">\n",
       "<caption>A tibble: 3 × 3</caption>\n",
       "<thead>\n",
       "\t<tr><th scope=col>RACE</th><th scope=col>mean</th><th scope=col>sd</th></tr>\n",
       "\t<tr><th scope=col>&lt;dbl&gt;</th><th scope=col>&lt;dbl&gt;</th><th scope=col>&lt;dbl&gt;</th></tr>\n",
       "</thead>\n",
       "<tbody>\n",
       "\t<tr><td>1</td><td>3080.358</td><td>749.0213</td></tr>\n",
       "\t<tr><td>2</td><td>2685.912</td><td>642.0547</td></tr>\n",
       "\t<tr><td>3</td><td>2749.674</td><td>733.5639</td></tr>\n",
       "</tbody>\n",
       "</table>\n"
      ],
      "text/latex": [
       "A tibble: 3 × 3\n",
       "\\begin{tabular}{lll}\n",
       " RACE & mean & sd\\\\\n",
       " <dbl> & <dbl> & <dbl>\\\\\n",
       "\\hline\n",
       "\t 1 & 3080.358 & 749.0213\\\\\n",
       "\t 2 & 2685.912 & 642.0547\\\\\n",
       "\t 3 & 2749.674 & 733.5639\\\\\n",
       "\\end{tabular}\n"
      ],
      "text/markdown": [
       "\n",
       "A tibble: 3 × 3\n",
       "\n",
       "| RACE &lt;dbl&gt; | mean &lt;dbl&gt; | sd &lt;dbl&gt; |\n",
       "|---|---|---|\n",
       "| 1 | 3080.358 | 749.0213 |\n",
       "| 2 | 2685.912 | 642.0547 |\n",
       "| 3 | 2749.674 | 733.5639 |\n",
       "\n"
      ],
      "text/plain": [
       "  RACE mean     sd      \n",
       "1 1    3080.358 749.0213\n",
       "2 2    2685.912 642.0547\n",
       "3 3    2749.674 733.5639"
      ]
     },
     "metadata": {},
     "output_type": "display_data"
    }
   ],
   "source": [
    "library(dplyr)\n",
    "\n",
    "analysis <- data %>%\n",
    "  group_by(RACE) %>%\n",
    "  summarize(mean = mean(BWT), sd = sd(BWT))\n",
    "\n",
    "# where 1 -White, 2 - Black and 3 -Other\n",
    "analysis"
   ]
  },
  {
   "cell_type": "markdown",
   "id": "296c8a0f",
   "metadata": {},
   "source": [
    "\n",
    "\n",
    "<h5>Comments on the Results</h5>\n",
    "\n",
    "<small>Basing on Mean</small>\n",
    "\n",
    "*Other Race Babies are more likely to die than Black Babies than other White Babies in that order, since from the background information we are told that babies with less weight usually die earlier than heavier ones. And the mean weights BWT show that\n",
    "\n",
    "*White Babies (3080.358) > Black Babies (2685.912) > Other Race Babies (2749.674)"
   ]
  },
  {
   "cell_type": "markdown",
   "id": "3b8bdbb0",
   "metadata": {},
   "source": [
    "# Task 2 b)"
   ]
  },
  {
   "cell_type": "code",
   "execution_count": 143,
   "id": "05b20338",
   "metadata": {},
   "outputs": [],
   "source": [
    "library(dplyr)\n",
    "\n",
    "bwt_white <- data %>%\n",
    "  filter(RACE == 1) %>%\n",
    "  select(BWT)\n",
    "\n",
    "bwt_black <- data %>%\n",
    "  filter(RACE == 2) %>%\n",
    "  select(BWT)\n",
    "\n",
    "bwt_other <- data %>%\n",
    "  filter(RACE == 3) %>%\n",
    "  select(BWT)"
   ]
  },
  {
   "cell_type": "code",
   "execution_count": 144,
   "id": "ef1527eb",
   "metadata": {},
   "outputs": [
    {
     "data": {
      "text/html": [
       "'White Race and Black Race'"
      ],
      "text/latex": [
       "'White Race and Black Race'"
      ],
      "text/markdown": [
       "'White Race and Black Race'"
      ],
      "text/plain": [
       "[1] \"White Race and Black Race\""
      ]
     },
     "metadata": {},
     "output_type": "display_data"
    },
    {
     "data": {
      "text/html": [
       "'==========================='"
      ],
      "text/latex": [
       "'==========================='"
      ],
      "text/markdown": [
       "'==========================='"
      ],
      "text/plain": [
       "[1] \"===========================\""
      ]
     },
     "metadata": {},
     "output_type": "display_data"
    },
    {
     "data": {
      "text/html": [
       "'Standard Error is =&gt; 83.7296367613615'"
      ],
      "text/latex": [
       "'Standard Error is => 83.7296367613615'"
      ],
      "text/markdown": [
       "'Standard Error is =&gt; 83.7296367613615'"
      ],
      "text/plain": [
       "[1] \"Standard Error is => 83.7296367613615\""
      ]
     },
     "metadata": {},
     "output_type": "display_data"
    },
    {
     "data": {
      "text/html": [
       "'Confidence Interval =&gt; 228.921474624525 up to 559.968757163554'"
      ],
      "text/latex": [
       "'Confidence Interval => 228.921474624525 up to 559.968757163554'"
      ],
      "text/markdown": [
       "'Confidence Interval =&gt; 228.921474624525 up to 559.968757163554'"
      ],
      "text/plain": [
       "[1] \"Confidence Interval => 228.921474624525 up to 559.968757163554\""
      ]
     },
     "metadata": {},
     "output_type": "display_data"
    },
    {
     "data": {
      "text/html": [
       "'P-Value is =&gt; 5.83164557610555e-06'"
      ],
      "text/latex": [
       "'P-Value is => 5.83164557610555e-06'"
      ],
      "text/markdown": [
       "'P-Value is =&gt; 5.83164557610555e-06'"
      ],
      "text/plain": [
       "[1] \"P-Value is => 5.83164557610555e-06\""
      ]
     },
     "metadata": {},
     "output_type": "display_data"
    }
   ],
   "source": [
    "## COMPARISONS in THE RACES\n",
    "# Between White Race and Black Race basing on the BWT (WB)\n",
    "results1 <- t.test(bwt_white, bwt_black)\n",
    "paste(\"White Race and Black Race\")\n",
    "paste(\"===========================\")\n",
    "paste(\"Standard Error is =>\", results1$stderr)\n",
    "paste(\"Confidence Interval =>\", results1$conf.int[1], \"up to\", results1$conf.int[2])\n",
    "paste(\"P-Value is =>\", results1$p.value)"
   ]
  },
  {
   "cell_type": "code",
   "execution_count": 145,
   "id": "7822aaeb",
   "metadata": {},
   "outputs": [
    {
     "data": {
      "text/html": [
       "'White Race and Other Race'"
      ],
      "text/latex": [
       "'White Race and Other Race'"
      ],
      "text/markdown": [
       "'White Race and Other Race'"
      ],
      "text/plain": [
       "[1] \"White Race and Other Race\""
      ]
     },
     "metadata": {},
     "output_type": "display_data"
    },
    {
     "data": {
      "text/html": [
       "'==========================='"
      ],
      "text/latex": [
       "'==========================='"
      ],
      "text/markdown": [
       "'==========================='"
      ],
      "text/plain": [
       "[1] \"===========================\""
      ]
     },
     "metadata": {},
     "output_type": "display_data"
    },
    {
     "data": {
      "text/html": [
       "'Standard Error is =&gt; 65.7734525860129'"
      ],
      "text/latex": [
       "'Standard Error is => 65.7734525860129'"
      ],
      "text/markdown": [
       "'Standard Error is =&gt; 65.7734525860129'"
      ],
      "text/plain": [
       "[1] \"Standard Error is => 65.7734525860129\""
      ]
     },
     "metadata": {},
     "output_type": "display_data"
    },
    {
     "data": {
      "text/html": [
       "'Confidence Interval =&gt; 201.439191492672 up to 459.927416442196'"
      ],
      "text/latex": [
       "'Confidence Interval => 201.439191492672 up to 459.927416442196'"
      ],
      "text/markdown": [
       "'Confidence Interval =&gt; 201.439191492672 up to 459.927416442196'"
      ],
      "text/plain": [
       "[1] \"Confidence Interval => 201.439191492672 up to 459.927416442196\""
      ]
     },
     "metadata": {},
     "output_type": "display_data"
    },
    {
     "data": {
      "text/html": [
       "'P-Value is =&gt; 7.05848336257112e-07'"
      ],
      "text/latex": [
       "'P-Value is => 7.05848336257112e-07'"
      ],
      "text/markdown": [
       "'P-Value is =&gt; 7.05848336257112e-07'"
      ],
      "text/plain": [
       "[1] \"P-Value is => 7.05848336257112e-07\""
      ]
     },
     "metadata": {},
     "output_type": "display_data"
    }
   ],
   "source": [
    "# Between White Race and Other Race basing on the BWT (WO)\n",
    "results2 <- t.test(bwt_white, bwt_other)\n",
    "paste(\"White Race and Other Race\")\n",
    "paste(\"===========================\")\n",
    "paste(\"Standard Error is =>\", results2$stderr)\n",
    "paste(\"Confidence Interval =>\", results2$conf.int[1], \"up to\", results2$conf.int[2])\n",
    "paste(\"P-Value is =>\", results2$p.value)"
   ]
  },
  {
   "cell_type": "code",
   "execution_count": 146,
   "id": "ea11dd97",
   "metadata": {},
   "outputs": [
    {
     "data": {
      "text/html": [
       "'Black Race and Other Race'"
      ],
      "text/latex": [
       "'Black Race and Other Race'"
      ],
      "text/markdown": [
       "'Black Race and Other Race'"
      ],
      "text/plain": [
       "[1] \"Black Race and Other Race\""
      ]
     },
     "metadata": {},
     "output_type": "display_data"
    },
    {
     "data": {
      "text/html": [
       "'==========================='"
      ],
      "text/latex": [
       "'==========================='"
      ],
      "text/markdown": [
       "'==========================='"
      ],
      "text/plain": [
       "[1] \"===========================\""
      ]
     },
     "metadata": {},
     "output_type": "display_data"
    },
    {
     "data": {
      "text/html": [
       "'Standard Error is =&gt; 87.300341041151'"
      ],
      "text/latex": [
       "'Standard Error is => 87.300341041151'"
      ],
      "text/markdown": [
       "'Standard Error is =&gt; 87.300341041151'"
      ],
      "text/plain": [
       "[1] \"Standard Error is => 87.300341041151\""
      ]
     },
     "metadata": {},
     "output_type": "display_data"
    },
    {
     "data": {
      "text/html": [
       "'Confidence Interval =&gt; -236.17558030463 up to 108.651956451419'"
      ],
      "text/latex": [
       "'Confidence Interval => -236.17558030463 up to 108.651956451419'"
      ],
      "text/markdown": [
       "'Confidence Interval =&gt; -236.17558030463 up to 108.651956451419'"
      ],
      "text/plain": [
       "[1] \"Confidence Interval => -236.17558030463 up to 108.651956451419\""
      ]
     },
     "metadata": {},
     "output_type": "display_data"
    },
    {
     "data": {
      "text/html": [
       "'P-Value is =&gt; 0.466233698748352'"
      ],
      "text/latex": [
       "'P-Value is => 0.466233698748352'"
      ],
      "text/markdown": [
       "'P-Value is =&gt; 0.466233698748352'"
      ],
      "text/plain": [
       "[1] \"P-Value is => 0.466233698748352\""
      ]
     },
     "metadata": {},
     "output_type": "display_data"
    }
   ],
   "source": [
    "# Between Black Race and Other Race basing on the BWT (BO)\n",
    "results3 <- t.test(bwt_black, bwt_other)\n",
    "paste(\"Black Race and Other Race\")\n",
    "paste(\"===========================\")\n",
    "paste(\"Standard Error is =>\", results3$stderr)\n",
    "paste(\"Confidence Interval =>\", results3$conf.int[1], \"up to\", results3$conf.int[2])\n",
    "paste(\"P-Value is =>\", results3$p.value)"
   ]
  },
  {
   "cell_type": "markdown",
   "id": "43b949d4",
   "metadata": {},
   "source": [
    "# Task 3 a)"
   ]
  },
  {
   "cell_type": "code",
   "execution_count": 162,
   "id": "7d1f3ad2",
   "metadata": {},
   "outputs": [
    {
     "data": {
      "text/html": [
       "<span style=white-space:pre-wrap>'There are  600  Individuals'</span>"
      ],
      "text/latex": [
       "'There are  600  Individuals'"
      ],
      "text/markdown": [
       "<span style=white-space:pre-wrap>'There are  600  Individuals'</span>"
      ],
      "text/plain": [
       "[1] \"There are  600  Individuals\""
      ]
     },
     "metadata": {},
     "output_type": "display_data"
    },
    {
     "data": {
      "text/html": [
       "<table class=\"dataframe\">\n",
       "<caption>A data.frame: 4 × 4</caption>\n",
       "<thead>\n",
       "\t<tr><th scope=col>Smoking</th><th scope=col>Hypertension</th><th scope=col>Individuals</th><th scope=col>Percent</th></tr>\n",
       "\t<tr><th scope=col>&lt;fct&gt;</th><th scope=col>&lt;fct&gt;</th><th scope=col>&lt;int&gt;</th><th scope=col>&lt;dbl&gt;</th></tr>\n",
       "</thead>\n",
       "<tbody>\n",
       "\t<tr><td>0</td><td>0</td><td>342</td><td>57.000000</td></tr>\n",
       "\t<tr><td>1</td><td>0</td><td>218</td><td>36.333333</td></tr>\n",
       "\t<tr><td>0</td><td>1</td><td> 23</td><td> 3.833333</td></tr>\n",
       "\t<tr><td>1</td><td>1</td><td> 17</td><td> 2.833333</td></tr>\n",
       "</tbody>\n",
       "</table>\n"
      ],
      "text/latex": [
       "A data.frame: 4 × 4\n",
       "\\begin{tabular}{llll}\n",
       " Smoking & Hypertension & Individuals & Percent\\\\\n",
       " <fct> & <fct> & <int> & <dbl>\\\\\n",
       "\\hline\n",
       "\t 0 & 0 & 342 & 57.000000\\\\\n",
       "\t 1 & 0 & 218 & 36.333333\\\\\n",
       "\t 0 & 1 &  23 &  3.833333\\\\\n",
       "\t 1 & 1 &  17 &  2.833333\\\\\n",
       "\\end{tabular}\n"
      ],
      "text/markdown": [
       "\n",
       "A data.frame: 4 × 4\n",
       "\n",
       "| Smoking &lt;fct&gt; | Hypertension &lt;fct&gt; | Individuals &lt;int&gt; | Percent &lt;dbl&gt; |\n",
       "|---|---|---|---|\n",
       "| 0 | 0 | 342 | 57.000000 |\n",
       "| 1 | 0 | 218 | 36.333333 |\n",
       "| 0 | 1 |  23 |  3.833333 |\n",
       "| 1 | 1 |  17 |  2.833333 |\n",
       "\n"
      ],
      "text/plain": [
       "  Smoking Hypertension Individuals Percent  \n",
       "1 0       0            342         57.000000\n",
       "2 1       0            218         36.333333\n",
       "3 0       1             23          3.833333\n",
       "4 1       1             17          2.833333"
      ]
     },
     "metadata": {},
     "output_type": "display_data"
    }
   ],
   "source": [
    "ht_smoke <- as.data.frame(table(data['SMOKE'],data['HT']))\n",
    "colnames(ht_smoke) <- c(\"Smoking\",\"Hypertension\",\"Individuals\")\n",
    "\n",
    "ht_smoke['Percent'] <- ht_smoke['Individuals'] / sum(ht_smoke['Individuals']) * 100\n",
    "paste(\"There are \", sum(ht_smoke['Individuals']), \" Individuals\")\n",
    "\n",
    "# where 1 -Yes and 0 is No\n",
    "ht_smoke"
   ]
  },
  {
   "cell_type": "markdown",
   "id": "b18c1fc6",
   "metadata": {},
   "source": [
    "<h4>Comments on the relationship btn Smoking and HyperTension</h4>\n",
    "We see that for a person not smoking there's 57% chance that that individual won't suffer hypertension"
   ]
  },
  {
   "cell_type": "code",
   "execution_count": null,
   "id": "3212f2a9",
   "metadata": {},
   "outputs": [],
   "source": []
  }
 ],
 "metadata": {
  "kernelspec": {
   "display_name": "R",
   "language": "R",
   "name": "ir"
  },
  "language_info": {
   "codemirror_mode": "r",
   "file_extension": ".r",
   "mimetype": "text/x-r-source",
   "name": "R",
   "pygments_lexer": "r",
   "version": "4.2.1"
  }
 },
 "nbformat": 4,
 "nbformat_minor": 5
}
